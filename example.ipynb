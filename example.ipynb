# Example notebook for ML Utilities (preview)
# - Use this notebook to interactively try the utilities.
# - You can run cells to profile, clean, split, and encode the provided sample.csv

import pandas as pd
df = pd.read_csv('sample.csv')
df.head()
